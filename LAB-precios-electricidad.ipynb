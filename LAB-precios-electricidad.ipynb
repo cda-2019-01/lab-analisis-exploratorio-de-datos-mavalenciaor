{
 "cells": [
  {
   "cell_type": "markdown",
   "metadata": {},
   "source": [
    "Evolución de los Precios de la Electricidad\n",
    "==="
   ]
  },
  {
   "cell_type": "markdown",
   "metadata": {},
   "source": [
    "# Instrucciones"
   ]
  },
  {
   "cell_type": "markdown",
   "metadata": {},
   "source": [
    "En el archivo `precios.zip`  se encuentran los archivos `Precio_Bolsa_Nacional_($kwh)_ano.xls` en formato de Microsoft Excel, los cuales contienen los precios históricos horarios de la electricidad para el mercado eléctrico Colombiano entre los años 1995 y 2017 en COL-PESOS/kWh. A partir de la información suministrada realice las siguientes actividades. "
   ]
  },
  {
   "cell_type": "markdown",
   "metadata": {},
   "source": [
    "**1.--** Lea los archivos y cree una tabla única concatenando la información para cada uno de los años. Debe transformar la tabla de tal forma que quede con las columnas `Fecha`, `Hora` y `Precio` (únicamente tres columnas)."
   ]
  },
  {
   "cell_type": "code",
   "execution_count": 8,
   "metadata": {},
   "outputs": [
    {
     "data": {
      "text/html": [
       "<div>\n",
       "<style scoped>\n",
       "    .dataframe tbody tr th:only-of-type {\n",
       "        vertical-align: middle;\n",
       "    }\n",
       "\n",
       "    .dataframe tbody tr th {\n",
       "        vertical-align: top;\n",
       "    }\n",
       "\n",
       "    .dataframe thead th {\n",
       "        text-align: right;\n",
       "    }\n",
       "</style>\n",
       "<table border=\"1\" class=\"dataframe\">\n",
       "  <thead>\n",
       "    <tr style=\"text-align: right;\">\n",
       "      <th></th>\n",
       "      <th>Fecha</th>\n",
       "      <th>Hora</th>\n",
       "      <th>Precio</th>\n",
       "    </tr>\n",
       "  </thead>\n",
       "  <tbody>\n",
       "    <tr>\n",
       "      <th>0</th>\n",
       "      <td>1995-07-20</td>\n",
       "      <td>0</td>\n",
       "      <td>NaN</td>\n",
       "    </tr>\n",
       "    <tr>\n",
       "      <th>1</th>\n",
       "      <td>1995-07-21</td>\n",
       "      <td>0</td>\n",
       "      <td>1.073000</td>\n",
       "    </tr>\n",
       "    <tr>\n",
       "      <th>2</th>\n",
       "      <td>1995-07-22</td>\n",
       "      <td>0</td>\n",
       "      <td>1.073000</td>\n",
       "    </tr>\n",
       "    <tr>\n",
       "      <th>3</th>\n",
       "      <td>1995-07-23</td>\n",
       "      <td>0</td>\n",
       "      <td>1.073000</td>\n",
       "    </tr>\n",
       "    <tr>\n",
       "      <th>4</th>\n",
       "      <td>1995-07-24</td>\n",
       "      <td>0</td>\n",
       "      <td>1.000000</td>\n",
       "    </tr>\n",
       "    <tr>\n",
       "      <th>5</th>\n",
       "      <td>1995-07-25</td>\n",
       "      <td>0</td>\n",
       "      <td>0.990000</td>\n",
       "    </tr>\n",
       "    <tr>\n",
       "      <th>6</th>\n",
       "      <td>1995-07-26</td>\n",
       "      <td>0</td>\n",
       "      <td>0.500000</td>\n",
       "    </tr>\n",
       "    <tr>\n",
       "      <th>7</th>\n",
       "      <td>1995-07-27</td>\n",
       "      <td>0</td>\n",
       "      <td>0.500000</td>\n",
       "    </tr>\n",
       "    <tr>\n",
       "      <th>8</th>\n",
       "      <td>1995-07-28</td>\n",
       "      <td>0</td>\n",
       "      <td>0.000000</td>\n",
       "    </tr>\n",
       "    <tr>\n",
       "      <th>9</th>\n",
       "      <td>1995-07-29</td>\n",
       "      <td>0</td>\n",
       "      <td>1.000000</td>\n",
       "    </tr>\n",
       "    <tr>\n",
       "      <th>10</th>\n",
       "      <td>1995-07-30</td>\n",
       "      <td>0</td>\n",
       "      <td>1.072000</td>\n",
       "    </tr>\n",
       "    <tr>\n",
       "      <th>11</th>\n",
       "      <td>1995-07-31</td>\n",
       "      <td>0</td>\n",
       "      <td>0.000000</td>\n",
       "    </tr>\n",
       "    <tr>\n",
       "      <th>12</th>\n",
       "      <td>1995-08-01</td>\n",
       "      <td>0</td>\n",
       "      <td>0.000000</td>\n",
       "    </tr>\n",
       "    <tr>\n",
       "      <th>13</th>\n",
       "      <td>1995-08-02</td>\n",
       "      <td>0</td>\n",
       "      <td>1.073000</td>\n",
       "    </tr>\n",
       "    <tr>\n",
       "      <th>14</th>\n",
       "      <td>1995-08-03</td>\n",
       "      <td>0</td>\n",
       "      <td>1.073000</td>\n",
       "    </tr>\n",
       "    <tr>\n",
       "      <th>15</th>\n",
       "      <td>1995-08-04</td>\n",
       "      <td>0</td>\n",
       "      <td>1.073000</td>\n",
       "    </tr>\n",
       "    <tr>\n",
       "      <th>16</th>\n",
       "      <td>1995-08-05</td>\n",
       "      <td>0</td>\n",
       "      <td>2.000000</td>\n",
       "    </tr>\n",
       "    <tr>\n",
       "      <th>17</th>\n",
       "      <td>1995-08-06</td>\n",
       "      <td>0</td>\n",
       "      <td>3.000000</td>\n",
       "    </tr>\n",
       "    <tr>\n",
       "      <th>18</th>\n",
       "      <td>1995-08-07</td>\n",
       "      <td>0</td>\n",
       "      <td>3.000000</td>\n",
       "    </tr>\n",
       "    <tr>\n",
       "      <th>19</th>\n",
       "      <td>1995-08-08</td>\n",
       "      <td>0</td>\n",
       "      <td>3.000000</td>\n",
       "    </tr>\n",
       "    <tr>\n",
       "      <th>20</th>\n",
       "      <td>1995-08-09</td>\n",
       "      <td>0</td>\n",
       "      <td>10.000000</td>\n",
       "    </tr>\n",
       "    <tr>\n",
       "      <th>21</th>\n",
       "      <td>1995-08-10</td>\n",
       "      <td>0</td>\n",
       "      <td>18.000000</td>\n",
       "    </tr>\n",
       "    <tr>\n",
       "      <th>22</th>\n",
       "      <td>1995-08-11</td>\n",
       "      <td>0</td>\n",
       "      <td>12.000000</td>\n",
       "    </tr>\n",
       "    <tr>\n",
       "      <th>23</th>\n",
       "      <td>1995-08-12</td>\n",
       "      <td>0</td>\n",
       "      <td>30.000000</td>\n",
       "    </tr>\n",
       "    <tr>\n",
       "      <th>24</th>\n",
       "      <td>1995-08-13</td>\n",
       "      <td>0</td>\n",
       "      <td>35.000000</td>\n",
       "    </tr>\n",
       "    <tr>\n",
       "      <th>25</th>\n",
       "      <td>1995-08-14</td>\n",
       "      <td>0</td>\n",
       "      <td>17.000000</td>\n",
       "    </tr>\n",
       "    <tr>\n",
       "      <th>26</th>\n",
       "      <td>1995-08-15</td>\n",
       "      <td>0</td>\n",
       "      <td>1.074000</td>\n",
       "    </tr>\n",
       "    <tr>\n",
       "      <th>27</th>\n",
       "      <td>1995-08-16</td>\n",
       "      <td>0</td>\n",
       "      <td>1.074000</td>\n",
       "    </tr>\n",
       "    <tr>\n",
       "      <th>28</th>\n",
       "      <td>1995-08-17</td>\n",
       "      <td>0</td>\n",
       "      <td>1.000000</td>\n",
       "    </tr>\n",
       "    <tr>\n",
       "      <th>29</th>\n",
       "      <td>1995-08-18</td>\n",
       "      <td>0</td>\n",
       "      <td>1.075000</td>\n",
       "    </tr>\n",
       "    <tr>\n",
       "      <th>...</th>\n",
       "      <td>...</td>\n",
       "      <td>...</td>\n",
       "      <td>...</td>\n",
       "    </tr>\n",
       "    <tr>\n",
       "      <th>201786</th>\n",
       "      <td>2018-04-06</td>\n",
       "      <td>23</td>\n",
       "      <td>101.061224</td>\n",
       "    </tr>\n",
       "    <tr>\n",
       "      <th>201787</th>\n",
       "      <td>2018-04-07</td>\n",
       "      <td>23</td>\n",
       "      <td>115.247319</td>\n",
       "    </tr>\n",
       "    <tr>\n",
       "      <th>201788</th>\n",
       "      <td>2018-04-08</td>\n",
       "      <td>23</td>\n",
       "      <td>104.855346</td>\n",
       "    </tr>\n",
       "    <tr>\n",
       "      <th>201789</th>\n",
       "      <td>2018-04-09</td>\n",
       "      <td>23</td>\n",
       "      <td>96.150254</td>\n",
       "    </tr>\n",
       "    <tr>\n",
       "      <th>201790</th>\n",
       "      <td>2018-04-10</td>\n",
       "      <td>23</td>\n",
       "      <td>96.544901</td>\n",
       "    </tr>\n",
       "    <tr>\n",
       "      <th>201791</th>\n",
       "      <td>2018-04-11</td>\n",
       "      <td>23</td>\n",
       "      <td>95.951640</td>\n",
       "    </tr>\n",
       "    <tr>\n",
       "      <th>201792</th>\n",
       "      <td>2018-04-12</td>\n",
       "      <td>23</td>\n",
       "      <td>104.050235</td>\n",
       "    </tr>\n",
       "    <tr>\n",
       "      <th>201793</th>\n",
       "      <td>2018-04-13</td>\n",
       "      <td>23</td>\n",
       "      <td>115.019470</td>\n",
       "    </tr>\n",
       "    <tr>\n",
       "      <th>201794</th>\n",
       "      <td>2018-04-14</td>\n",
       "      <td>23</td>\n",
       "      <td>112.536146</td>\n",
       "    </tr>\n",
       "    <tr>\n",
       "      <th>201795</th>\n",
       "      <td>2018-04-15</td>\n",
       "      <td>23</td>\n",
       "      <td>102.413184</td>\n",
       "    </tr>\n",
       "    <tr>\n",
       "      <th>201796</th>\n",
       "      <td>2018-04-16</td>\n",
       "      <td>23</td>\n",
       "      <td>84.128662</td>\n",
       "    </tr>\n",
       "    <tr>\n",
       "      <th>201797</th>\n",
       "      <td>2018-04-17</td>\n",
       "      <td>23</td>\n",
       "      <td>82.310629</td>\n",
       "    </tr>\n",
       "    <tr>\n",
       "      <th>201798</th>\n",
       "      <td>2018-04-18</td>\n",
       "      <td>23</td>\n",
       "      <td>115.397910</td>\n",
       "    </tr>\n",
       "    <tr>\n",
       "      <th>201799</th>\n",
       "      <td>2018-04-19</td>\n",
       "      <td>23</td>\n",
       "      <td>130.148787</td>\n",
       "    </tr>\n",
       "    <tr>\n",
       "      <th>201800</th>\n",
       "      <td>2018-04-20</td>\n",
       "      <td>23</td>\n",
       "      <td>73.651514</td>\n",
       "    </tr>\n",
       "    <tr>\n",
       "      <th>201801</th>\n",
       "      <td>2018-04-21</td>\n",
       "      <td>23</td>\n",
       "      <td>73.040902</td>\n",
       "    </tr>\n",
       "    <tr>\n",
       "      <th>201802</th>\n",
       "      <td>2018-04-22</td>\n",
       "      <td>23</td>\n",
       "      <td>73.182921</td>\n",
       "    </tr>\n",
       "    <tr>\n",
       "      <th>201803</th>\n",
       "      <td>2018-04-23</td>\n",
       "      <td>23</td>\n",
       "      <td>117.952904</td>\n",
       "    </tr>\n",
       "    <tr>\n",
       "      <th>201804</th>\n",
       "      <td>2018-04-24</td>\n",
       "      <td>23</td>\n",
       "      <td>124.376789</td>\n",
       "    </tr>\n",
       "    <tr>\n",
       "      <th>201805</th>\n",
       "      <td>2018-04-25</td>\n",
       "      <td>23</td>\n",
       "      <td>140.515851</td>\n",
       "    </tr>\n",
       "    <tr>\n",
       "      <th>201806</th>\n",
       "      <td>2018-04-26</td>\n",
       "      <td>23</td>\n",
       "      <td>72.752131</td>\n",
       "    </tr>\n",
       "    <tr>\n",
       "      <th>201807</th>\n",
       "      <td>2018-04-27</td>\n",
       "      <td>23</td>\n",
       "      <td>71.669496</td>\n",
       "    </tr>\n",
       "    <tr>\n",
       "      <th>201808</th>\n",
       "      <td>2018-04-28</td>\n",
       "      <td>23</td>\n",
       "      <td>70.008969</td>\n",
       "    </tr>\n",
       "    <tr>\n",
       "      <th>201809</th>\n",
       "      <td>2018-04-29</td>\n",
       "      <td>23</td>\n",
       "      <td>70.012686</td>\n",
       "    </tr>\n",
       "    <tr>\n",
       "      <th>201810</th>\n",
       "      <td>2018-04-30</td>\n",
       "      <td>23</td>\n",
       "      <td>67.645951</td>\n",
       "    </tr>\n",
       "    <tr>\n",
       "      <th>201811</th>\n",
       "      <td>2018-05-01</td>\n",
       "      <td>23</td>\n",
       "      <td>64.229226</td>\n",
       "    </tr>\n",
       "    <tr>\n",
       "      <th>201812</th>\n",
       "      <td>2018-05-02</td>\n",
       "      <td>23</td>\n",
       "      <td>67.832816</td>\n",
       "    </tr>\n",
       "    <tr>\n",
       "      <th>201813</th>\n",
       "      <td>2018-05-03</td>\n",
       "      <td>23</td>\n",
       "      <td>63.710848</td>\n",
       "    </tr>\n",
       "    <tr>\n",
       "      <th>201814</th>\n",
       "      <td>2018-05-04</td>\n",
       "      <td>23</td>\n",
       "      <td>64.043453</td>\n",
       "    </tr>\n",
       "    <tr>\n",
       "      <th>201815</th>\n",
       "      <td>2018-05-05</td>\n",
       "      <td>23</td>\n",
       "      <td>75.242918</td>\n",
       "    </tr>\n",
       "  </tbody>\n",
       "</table>\n",
       "<p>201816 rows × 3 columns</p>\n",
       "</div>"
      ],
      "text/plain": [
       "             Fecha Hora      Precio\n",
       "0       1995-07-20    0         NaN\n",
       "1       1995-07-21    0    1.073000\n",
       "2       1995-07-22    0    1.073000\n",
       "3       1995-07-23    0    1.073000\n",
       "4       1995-07-24    0    1.000000\n",
       "5       1995-07-25    0    0.990000\n",
       "6       1995-07-26    0    0.500000\n",
       "7       1995-07-27    0    0.500000\n",
       "8       1995-07-28    0    0.000000\n",
       "9       1995-07-29    0    1.000000\n",
       "10      1995-07-30    0    1.072000\n",
       "11      1995-07-31    0    0.000000\n",
       "12      1995-08-01    0    0.000000\n",
       "13      1995-08-02    0    1.073000\n",
       "14      1995-08-03    0    1.073000\n",
       "15      1995-08-04    0    1.073000\n",
       "16      1995-08-05    0    2.000000\n",
       "17      1995-08-06    0    3.000000\n",
       "18      1995-08-07    0    3.000000\n",
       "19      1995-08-08    0    3.000000\n",
       "20      1995-08-09    0   10.000000\n",
       "21      1995-08-10    0   18.000000\n",
       "22      1995-08-11    0   12.000000\n",
       "23      1995-08-12    0   30.000000\n",
       "24      1995-08-13    0   35.000000\n",
       "25      1995-08-14    0   17.000000\n",
       "26      1995-08-15    0    1.074000\n",
       "27      1995-08-16    0    1.074000\n",
       "28      1995-08-17    0    1.000000\n",
       "29      1995-08-18    0    1.075000\n",
       "...            ...  ...         ...\n",
       "201786  2018-04-06   23  101.061224\n",
       "201787  2018-04-07   23  115.247319\n",
       "201788  2018-04-08   23  104.855346\n",
       "201789  2018-04-09   23   96.150254\n",
       "201790  2018-04-10   23   96.544901\n",
       "201791  2018-04-11   23   95.951640\n",
       "201792  2018-04-12   23  104.050235\n",
       "201793  2018-04-13   23  115.019470\n",
       "201794  2018-04-14   23  112.536146\n",
       "201795  2018-04-15   23  102.413184\n",
       "201796  2018-04-16   23   84.128662\n",
       "201797  2018-04-17   23   82.310629\n",
       "201798  2018-04-18   23  115.397910\n",
       "201799  2018-04-19   23  130.148787\n",
       "201800  2018-04-20   23   73.651514\n",
       "201801  2018-04-21   23   73.040902\n",
       "201802  2018-04-22   23   73.182921\n",
       "201803  2018-04-23   23  117.952904\n",
       "201804  2018-04-24   23  124.376789\n",
       "201805  2018-04-25   23  140.515851\n",
       "201806  2018-04-26   23   72.752131\n",
       "201807  2018-04-27   23   71.669496\n",
       "201808  2018-04-28   23   70.008969\n",
       "201809  2018-04-29   23   70.012686\n",
       "201810  2018-04-30   23   67.645951\n",
       "201811  2018-05-01   23   64.229226\n",
       "201812  2018-05-02   23   67.832816\n",
       "201813  2018-05-03   23   63.710848\n",
       "201814  2018-05-04   23   64.043453\n",
       "201815  2018-05-05   23   75.242918\n",
       "\n",
       "[201816 rows x 3 columns]"
      ]
     },
     "execution_count": 8,
     "metadata": {},
     "output_type": "execute_result"
    }
   ],
   "source": [
    "import os\n",
    "import pandas as pd\n",
    "import xlrd\n",
    "\n",
    "def leer_precios(filename):\n",
    "    df = pd.read_excel(filename)\n",
    "    for index, row in df.iterrows():\n",
    "        if (row[0] == 'Fecha'):\n",
    "            x = index + 1\n",
    "            df = pd.read_excel(filename, skiprows = x, usecols = list(range(26)))\n",
    "            break\n",
    "    df\n",
    "    \n",
    "    return df\n",
    "\n",
    "\n",
    "path = '.'\n",
    "files = os.listdir(path)\n",
    "# x = !ls precios/ \n",
    "files = [i for i in files if '.xls' in i]\n",
    "y = 0\n",
    "dfs = []\n",
    "for i in files:\n",
    "    df = pd.read_excel(i)\n",
    "    dfs.append(leer_precios(i))\n",
    "dfs\n",
    "\n",
    "for i in dfs:\n",
    "    if 'Version' in i.columns.values:\n",
    "        del i['Version']\n",
    "df = pd.concat(dfs)\n",
    "\n",
    "df = pd.melt(df, id_vars='Fecha')\n",
    "\n",
    "df.columns = ['Fecha', 'Hora', 'Precio']\n",
    "df"
   ]
  },
  {
   "cell_type": "markdown",
   "metadata": {},
   "source": [
    "**2.--** Compute e imprima el número de registros con datos faltantes."
   ]
  },
  {
   "cell_type": "code",
   "execution_count": 9,
   "metadata": {},
   "outputs": [
    {
     "name": "stdout",
     "output_type": "stream",
     "text": [
      "238\n"
     ]
    }
   ],
   "source": [
    "filtered_df = df[df['Precio'].notnull()]\n",
    "print(df.shape[0] - filtered_df.shape[0])"
   ]
  },
  {
   "cell_type": "markdown",
   "metadata": {},
   "source": [
    "**3.--** Compute e imprima el número de registros duplicados."
   ]
  },
  {
   "cell_type": "code",
   "execution_count": 10,
   "metadata": {},
   "outputs": [
    {
     "name": "stdout",
     "output_type": "stream",
     "text": [
      "1951\n"
     ]
    }
   ],
   "source": [
    "duplicates_out_df = df.copy()\n",
    "duplicates_out_df = duplicates_out_df.drop_duplicates()\n",
    "print(df.shape[0] - duplicates_out_df.shape[0])"
   ]
  },
  {
   "cell_type": "markdown",
   "metadata": {},
   "source": [
    "**4.--** Elimine los registros con datos duplicados o datos faltantes, e imprima la cantidad de registros que quedan (registros completos)."
   ]
  },
  {
   "cell_type": "code",
   "execution_count": 11,
   "metadata": {},
   "outputs": [
    {
     "name": "stdout",
     "output_type": "stream",
     "text": [
      "199819\n"
     ]
    }
   ],
   "source": [
    "df = df[df['Precio'].notnull()]\n",
    "df = df.drop_duplicates()\n",
    "print(df.shape[0])"
   ]
  },
  {
   "cell_type": "markdown",
   "metadata": {},
   "source": [
    "**5.--** Compute y grafique el precio primedio diario."
   ]
  },
  {
   "cell_type": "code",
   "execution_count": 12,
   "metadata": {},
   "outputs": [
    {
     "name": "stderr",
     "output_type": "stream",
     "text": [
      "/usr/local/lib/python3.6/dist-packages/pandas/plotting/_converter.py:129: FutureWarning: Using an implicitly registered datetime converter for a matplotlib plotting method. The converter was registered by pandas on import. Future versions of pandas will require you to explicitly register matplotlib converters.\n",
      "\n",
      "To register the converters:\n",
      "\t>>> from pandas.plotting import register_matplotlib_converters\n",
      "\t>>> register_matplotlib_converters()\n",
      "  warnings.warn(msg, FutureWarning)\n"
     ]
    },
    {
     "data": {
      "text/plain": [
       "[<matplotlib.lines.Line2D at 0x7ff7a0733898>]"
      ]
     },
     "execution_count": 12,
     "metadata": {},
     "output_type": "execute_result"
    },
    {
     "data": {
      "image/png": "[encoded data removed]",
      "text/plain": [
       "<Figure size 432x288 with 1 Axes>"
      ]
     },
     "metadata": {
      "needs_background": "light"
     },
     "output_type": "display_data"
    }
   ],
   "source": [
    "import matplotlib.pyplot as plt\n",
    "import matplotlib as mpl\n",
    "%matplotlib inline\n",
    "data = df.copy()\n",
    "data = data.groupby(['Fecha']).mean()['Precio']\n",
    "plt.plot(data)"
   ]
  },
  {
   "cell_type": "markdown",
   "metadata": {},
   "source": [
    "**6.--** Compute y grafique el precio máximo por mes."
   ]
  },
  {
   "cell_type": "code",
   "execution_count": 13,
   "metadata": {},
   "outputs": [
    {
     "data": {
      "text/plain": [
       "<matplotlib.axes._subplots.AxesSubplot at 0x7ff79ce3ca20>"
      ]
     },
     "execution_count": 13,
     "metadata": {},
     "output_type": "execute_result"
    },
    {
     "data": {
      "image/png": "[encoded data removed]",
      "text/plain": [
       "<Figure size 432x288 with 1 Axes>"
      ]
     },
     "metadata": {
      "needs_background": "light"
     },
     "output_type": "display_data"
    }
   ],
   "source": [
    "data = df.copy()\n",
    "data['Fecha'] = pd.to_datetime(data['Fecha'], errors='coerce')\n",
    "data['Anio'] = data['Fecha'].dt.year\n",
    "data['Mes'] = data['Fecha'].dt.month\n",
    "data = data.groupby(['Anio', 'Mes']).max()['Precio']\n",
    "data.plot()"
   ]
  },
  {
   "cell_type": "markdown",
   "metadata": {},
   "source": [
    "**7.--** Compute y grafique el precio mínimo mensual."
   ]
  },
  {
   "cell_type": "code",
   "execution_count": 14,
   "metadata": {},
   "outputs": [
    {
     "data": {
      "text/plain": [
       "<matplotlib.axes._subplots.AxesSubplot at 0x7ff79ccdd748>"
      ]
     },
     "execution_count": 14,
     "metadata": {},
     "output_type": "execute_result"
    },
    {
     "data": {
      "image/png": "[encoded data removed]",
      "text/plain": [
       "<Figure size 432x288 with 1 Axes>"
      ]
     },
     "metadata": {
      "needs_background": "light"
     },
     "output_type": "display_data"
    }
   ],
   "source": [
    "data = df.copy()\n",
    "data['Fecha'] = pd.to_datetime(data['Fecha'], errors='coerce')\n",
    "data['Anio'] = data['Fecha'].dt.year\n",
    "data['Mes'] = data['Fecha'].dt.month\n",
    "data = data.groupby(['Anio', 'Mes']).min()['Precio']\n",
    "data.plot()"
   ]
  },
  {
   "cell_type": "markdown",
   "metadata": {},
   "source": [
    "**8.--** Haga un gráfico para comparar el precio máximo del mes (para cada mes) y el precio promedio mensual."
   ]
  },
  {
   "cell_type": "code",
   "execution_count": 15,
   "metadata": {},
   "outputs": [
    {
     "data": {
      "text/plain": [
       "<matplotlib.axes._subplots.AxesSubplot at 0x7ff79cf18c50>"
      ]
     },
     "execution_count": 15,
     "metadata": {},
     "output_type": "execute_result"
    },
    {
     "data": {
      "image/png": "[encoded data removed]",
      "text/plain": [
       "<Figure size 432x288 with 1 Axes>"
      ]
     },
     "metadata": {
      "needs_background": "light"
     },
     "output_type": "display_data"
    }
   ],
   "source": [
    "data = df.copy()\n",
    "data['Fecha'] = pd.to_datetime(data['Fecha'], errors='coerce')\n",
    "data['Anio'] = data['Fecha'].dt.year\n",
    "data['Mes'] = data['Fecha'].dt.month\n",
    "data = data.groupby(['Anio','Mes']).agg(('mean', 'max'))\n",
    "data.plot()"
   ]
  },
  {
   "cell_type": "markdown",
   "metadata": {},
   "source": [
    "**9.--** Haga un histograma que muestre a que horas se produce el máximo precio diario para los días laborales."
   ]
  },
  {
   "cell_type": "code",
   "execution_count": 16,
   "metadata": {},
   "outputs": [
    {
     "data": {
      "image/png": "[encoded data removed]",
      "text/plain": [
       "<Figure size 432x288 with 1 Axes>"
      ]
     },
     "metadata": {
      "needs_background": "light"
     },
     "output_type": "display_data"
    }
   ],
   "source": [
    "data = df.copy()\n",
    "data['Fecha'] = pd.to_datetime(data['Fecha'], errors='coerce')\n",
    "data['Dia'] = data['Fecha'].dt.day_name()\n",
    "data = data.loc[data.groupby(\"Fecha\")[\"Precio\"].idxmax()]\n",
    "data['Hora'] = data['Hora'].astype(int)\n",
    "data = data.loc[data['Dia'].isin([\"Monday\", \"Tuesday\", \"Wednesday\", \"Thursday\", \"Friday\"])]\n",
    "\n",
    "data = data[['Hora', 'Precio']].groupby(['Hora']).size().reset_index(name='counts')\n",
    "x = []\n",
    "\n",
    "for i, row in data.iterrows():\n",
    "    for j in range(row['counts']):\n",
    "        x.append(row['Hora'])\n",
    "        \n",
    "num_bins = 24\n",
    "n, bins, patches = plt.hist(x, num_bins, facecolor='blue', alpha=0.5)\n",
    "plt.xticks(data['Hora'])\n",
    "plt.ylabel('Número de máximos en total')\n",
    "plt.xlabel('Horas del día')\n",
    "plt.figsize=(22,12)\n",
    "plt.show()"
   ]
  },
  {
   "cell_type": "markdown",
   "metadata": {},
   "source": [
    "**10.--** Haga un histograma que muestre a que horas se produce el máximo precio diario para los días sabado."
   ]
  },
  {
   "cell_type": "code",
   "execution_count": 17,
   "metadata": {},
   "outputs": [
    {
     "data": {
      "image/png": "[encoded data removed]",
      "text/plain": [
       "<Figure size 432x288 with 1 Axes>"
      ]
     },
     "metadata": {
      "needs_background": "light"
     },
     "output_type": "display_data"
    }
   ],
   "source": [
    "data = df.copy()\n",
    "data['Fecha'] = pd.to_datetime(data['Fecha'], errors='coerce')\n",
    "data['Dia'] = data['Fecha'].dt.day_name()\n",
    "data = data.loc[data.groupby(\"Fecha\")[\"Precio\"].idxmax()]\n",
    "data['Hora'] = data['Hora'].astype(int)\n",
    "data = data.loc[data['Dia'].isin([\"Saturday\"])]\n",
    "\n",
    "data = data[['Hora', 'Precio']].groupby(['Hora']).size().reset_index(name='counts')\n",
    "x = []\n",
    "\n",
    "for i, row in data.iterrows():\n",
    "    for j in range(row['counts']):\n",
    "        x.append(row['Hora'])\n",
    "        \n",
    "num_bins = 24\n",
    "n, bins, patches = plt.hist(x, num_bins, facecolor='blue', alpha=0.5)\n",
    "plt.xticks(data['Hora'])\n",
    "plt.ylabel('Número de máximos en total')\n",
    "plt.xlabel('Horas del día')\n",
    "plt.figsize=(22,12)\n",
    "plt.show()"
   ]
  },
  {
   "cell_type": "markdown",
   "metadata": {},
   "source": [
    "**11.--** Haga un histograma que muestre a que horas se produce el máximo precio diario para los días domingo."
   ]
  },
  {
   "cell_type": "code",
   "execution_count": 18,
   "metadata": {},
   "outputs": [
    {
     "data": {
      "image/png": "[encoded data removed]",
      "text/plain": [
       "<Figure size 432x288 with 1 Axes>"
      ]
     },
     "metadata": {
      "needs_background": "light"
     },
     "output_type": "display_data"
    }
   ],
   "source": [
    "data = df.copy()\n",
    "data['Fecha'] = pd.to_datetime(data['Fecha'], errors='coerce')\n",
    "data['Dia'] = data['Fecha'].dt.day_name()\n",
    "data = data.loc[data.groupby(\"Fecha\")[\"Precio\"].idxmax()]\n",
    "data['Hora'] = data['Hora'].astype(int)\n",
    "data = data.loc[data['Dia'].isin([\"Sunday\"])]\n",
    "\n",
    "data = data[['Hora', 'Precio']].groupby(['Hora']).size().reset_index(name='counts')\n",
    "x = []\n",
    "\n",
    "for i, row in data.iterrows():\n",
    "    for j in range(row['counts']):\n",
    "        x.append(row['Hora'])\n",
    "        \n",
    "num_bins = 24\n",
    "n, bins, patches = plt.hist(x, num_bins, facecolor='blue', alpha=0.5)\n",
    "plt.xticks(data['Hora'])\n",
    "plt.ylabel('Número de máximos en total')\n",
    "plt.xlabel('Horas del día')\n",
    "plt.figsize=(22,12)\n",
    "plt.show()"
   ]
  },
  {
   "cell_type": "markdown",
   "metadata": {},
   "source": [
    "**12.--** Imprima una tabla con la fecha y el valor más bajo por año del precio de bolsa."
   ]
  },
  {
   "cell_type": "code",
   "execution_count": 19,
   "metadata": {},
   "outputs": [
    {
     "data": {
      "text/html": [
       "<div>\n",
       "<style scoped>\n",
       "    .dataframe tbody tr th:only-of-type {\n",
       "        vertical-align: middle;\n",
       "    }\n",
       "\n",
       "    .dataframe tbody tr th {\n",
       "        vertical-align: top;\n",
       "    }\n",
       "\n",
       "    .dataframe thead th {\n",
       "        text-align: right;\n",
       "    }\n",
       "</style>\n",
       "<table border=\"1\" class=\"dataframe\">\n",
       "  <thead>\n",
       "    <tr style=\"text-align: right;\">\n",
       "      <th></th>\n",
       "      <th>Anio</th>\n",
       "      <th>Fecha</th>\n",
       "      <th>Precio</th>\n",
       "    </tr>\n",
       "  </thead>\n",
       "  <tbody>\n",
       "    <tr>\n",
       "      <th>8</th>\n",
       "      <td>1995</td>\n",
       "      <td>1995-07-28</td>\n",
       "      <td>0.000000</td>\n",
       "    </tr>\n",
       "    <tr>\n",
       "      <th>346</th>\n",
       "      <td>1996</td>\n",
       "      <td>1996-06-30</td>\n",
       "      <td>0.000000</td>\n",
       "    </tr>\n",
       "    <tr>\n",
       "      <th>17556</th>\n",
       "      <td>1997</td>\n",
       "      <td>1997-07-15</td>\n",
       "      <td>10.882310</td>\n",
       "    </tr>\n",
       "    <tr>\n",
       "      <th>1100</th>\n",
       "      <td>1998</td>\n",
       "      <td>1998-07-12</td>\n",
       "      <td>13.847330</td>\n",
       "    </tr>\n",
       "    <tr>\n",
       "      <th>51835</th>\n",
       "      <td>1999</td>\n",
       "      <td>1999-03-28</td>\n",
       "      <td>18.359530</td>\n",
       "    </tr>\n",
       "    <tr>\n",
       "      <th>52207</th>\n",
       "      <td>2000</td>\n",
       "      <td>2000-03-25</td>\n",
       "      <td>21.531167</td>\n",
       "    </tr>\n",
       "    <tr>\n",
       "      <th>27493</th>\n",
       "      <td>2001</td>\n",
       "      <td>2001-08-20</td>\n",
       "      <td>24.822879</td>\n",
       "    </tr>\n",
       "    <tr>\n",
       "      <th>2518</th>\n",
       "      <td>2002</td>\n",
       "      <td>2002-04-29</td>\n",
       "      <td>26.777682</td>\n",
       "    </tr>\n",
       "    <tr>\n",
       "      <th>2809</th>\n",
       "      <td>2003</td>\n",
       "      <td>2003-02-14</td>\n",
       "      <td>37.013438</td>\n",
       "    </tr>\n",
       "    <tr>\n",
       "      <th>11627</th>\n",
       "      <td>2004</td>\n",
       "      <td>2004-03-29</td>\n",
       "      <td>32.252998</td>\n",
       "    </tr>\n",
       "    <tr>\n",
       "      <th>3772</th>\n",
       "      <td>2005</td>\n",
       "      <td>2005-10-04</td>\n",
       "      <td>27.581415</td>\n",
       "    </tr>\n",
       "    <tr>\n",
       "      <th>20968</th>\n",
       "      <td>2006</td>\n",
       "      <td>2006-10-17</td>\n",
       "      <td>26.714797</td>\n",
       "    </tr>\n",
       "    <tr>\n",
       "      <th>4348</th>\n",
       "      <td>2007</td>\n",
       "      <td>2007-05-03</td>\n",
       "      <td>30.173824</td>\n",
       "    </tr>\n",
       "    <tr>\n",
       "      <th>4751</th>\n",
       "      <td>2008</td>\n",
       "      <td>2008-05-26</td>\n",
       "      <td>29.199135</td>\n",
       "    </tr>\n",
       "    <tr>\n",
       "      <th>5326</th>\n",
       "      <td>2009</td>\n",
       "      <td>2009-12-22</td>\n",
       "      <td>32.892503</td>\n",
       "    </tr>\n",
       "    <tr>\n",
       "      <th>5545</th>\n",
       "      <td>2010</td>\n",
       "      <td>2010-07-12</td>\n",
       "      <td>32.024957</td>\n",
       "    </tr>\n",
       "    <tr>\n",
       "      <th>5874</th>\n",
       "      <td>2011</td>\n",
       "      <td>2011-06-06</td>\n",
       "      <td>33.291100</td>\n",
       "    </tr>\n",
       "    <tr>\n",
       "      <th>56660</th>\n",
       "      <td>2012</td>\n",
       "      <td>2012-04-29</td>\n",
       "      <td>34.988099</td>\n",
       "    </tr>\n",
       "    <tr>\n",
       "      <th>6462</th>\n",
       "      <td>2013</td>\n",
       "      <td>2013-01-09</td>\n",
       "      <td>40.415346</td>\n",
       "    </tr>\n",
       "    <tr>\n",
       "      <th>23649</th>\n",
       "      <td>2014</td>\n",
       "      <td>2014-01-11</td>\n",
       "      <td>38.941951</td>\n",
       "    </tr>\n",
       "    <tr>\n",
       "      <th>24011</th>\n",
       "      <td>2015</td>\n",
       "      <td>2015-01-06</td>\n",
       "      <td>46.791501</td>\n",
       "    </tr>\n",
       "    <tr>\n",
       "      <th>7896</th>\n",
       "      <td>2016</td>\n",
       "      <td>2016-12-09</td>\n",
       "      <td>61.100689</td>\n",
       "    </tr>\n",
       "    <tr>\n",
       "      <th>8005</th>\n",
       "      <td>2017</td>\n",
       "      <td>2017-03-28</td>\n",
       "      <td>60.312095</td>\n",
       "    </tr>\n",
       "    <tr>\n",
       "      <th>33606</th>\n",
       "      <td>2018</td>\n",
       "      <td>2018-04-06</td>\n",
       "      <td>61.457224</td>\n",
       "    </tr>\n",
       "  </tbody>\n",
       "</table>\n",
       "</div>"
      ],
      "text/plain": [
       "       Anio      Fecha     Precio\n",
       "8      1995 1995-07-28   0.000000\n",
       "346    1996 1996-06-30   0.000000\n",
       "17556  1997 1997-07-15  10.882310\n",
       "1100   1998 1998-07-12  13.847330\n",
       "51835  1999 1999-03-28  18.359530\n",
       "52207  2000 2000-03-25  21.531167\n",
       "27493  2001 2001-08-20  24.822879\n",
       "2518   2002 2002-04-29  26.777682\n",
       "2809   2003 2003-02-14  37.013438\n",
       "11627  2004 2004-03-29  32.252998\n",
       "3772   2005 2005-10-04  27.581415\n",
       "20968  2006 2006-10-17  26.714797\n",
       "4348   2007 2007-05-03  30.173824\n",
       "4751   2008 2008-05-26  29.199135\n",
       "5326   2009 2009-12-22  32.892503\n",
       "5545   2010 2010-07-12  32.024957\n",
       "5874   2011 2011-06-06  33.291100\n",
       "56660  2012 2012-04-29  34.988099\n",
       "6462   2013 2013-01-09  40.415346\n",
       "23649  2014 2014-01-11  38.941951\n",
       "24011  2015 2015-01-06  46.791501\n",
       "7896   2016 2016-12-09  61.100689\n",
       "8005   2017 2017-03-28  60.312095\n",
       "33606  2018 2018-04-06  61.457224"
      ]
     },
     "execution_count": 19,
     "metadata": {},
     "output_type": "execute_result"
    }
   ],
   "source": [
    "data = df.copy()\n",
    "data['Fecha'] = pd.to_datetime(data['Fecha'], errors='coerce')\n",
    "data['Anio'] = data['Fecha'].dt.year\n",
    "data = data.loc[data.groupby(\"Anio\")[\"Precio\"].idxmin()]\n",
    "data = data[[\"Anio\", \"Fecha\", \"Precio\"]]\n",
    "data"
   ]
  },
  {
   "cell_type": "markdown",
   "metadata": {},
   "source": [
    "**13.--** Haga una gráfica en que se muestre el precio promedio diario y el precio promedio mensual."
   ]
  },
  {
   "cell_type": "code",
   "execution_count": null,
   "metadata": {},
   "outputs": [],
   "source": []
  },
  {
   "cell_type": "markdown",
   "metadata": {},
   "source": [
    "---"
   ]
  }
 ],
 "metadata": {
  "anaconda-cloud": {},
  "kernel_info": {
   "name": "python3"
  },
  "kernelspec": {
   "display_name": "Python 3",
   "language": "python",
   "name": "python3"
  },
  "language_info": {
   "codemirror_mode": {
    "name": "ipython",
    "version": 3
   },
   "file_extension": ".py",
   "mimetype": "text/x-python",
   "name": "python",
   "nbconvert_exporter": "python",
   "pygments_lexer": "ipython3",
   "version": "3.6.7"
  },
  "nteract": {
   "version": "0.7.1"
  }
 },
 "nbformat": 4,
 "nbformat_minor": 2
}
